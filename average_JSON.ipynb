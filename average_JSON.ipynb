{
 "cells": [
  {
   "cell_type": "code",
   "execution_count": 4,
   "id": "d78a1475",
   "metadata": {},
   "outputs": [
    {
     "name": "stdout",
     "output_type": "stream",
     "text": [
      "Wrote MountainCarContinuous-v0_avg.json\n",
      "Wrote Pendulum-v1_avg.json\n"
     ]
    }
   ],
   "source": [
    "import json\n",
    "import glob\n",
    "import os\n",
    "from collections import defaultdict\n",
    "\n",
    "# 1) find all your seed files\n",
    "patterns = [\"MountainCarContinuous-v0_*.json\", \"Pendulum-v1_*.json\"]\n",
    "files = []\n",
    "for p in patterns:\n",
    "    files.extend(glob.glob(p))\n",
    "\n",
    "# 2) bucket rewards by (env, episode_num)\n",
    "data = defaultdict(lambda: defaultdict(list))\n",
    "for fp in files:\n",
    "    env, _ = os.path.basename(fp).rsplit('_', 1)\n",
    "    with open(fp, 'r') as f:\n",
    "        js = json.load(f)\n",
    "    for ep in js['episodes']:\n",
    "        data[env][ep['episode_num']].append(ep['reward'])\n",
    "\n",
    "# 3) compute averages and dump one avg-file per env\n",
    "for env, eps in data.items():\n",
    "    out = {\n",
    "        \"experiment\": {\n",
    "            \"policy\": js[\"experiment\"][\"policy\"],\n",
    "            \"environment\": env,\n",
    "            \"seed\": \"avg\",\n",
    "            \"start_time\": js[\"experiment\"][\"start_time\"]\n",
    "        },\n",
    "        \"episodes\": [],\n",
    "        \"evaluations\": []\n",
    "    }\n",
    "\n",
    "    # sort by episode_num to keep order\n",
    "    for ep_num in sorted(eps):\n",
    "        rewards = eps[ep_num]\n",
    "        avg_r = sum(rewards) / len(rewards)\n",
    "        # preserve the same keys as your originals\n",
    "        out[\"episodes\"].append({\n",
    "            \"total_timesteps\": js[\"episodes\"][0][\"total_timesteps\"],\n",
    "            \"episode_num\": ep_num,\n",
    "            \"episode_timesteps\": js[\"episodes\"][0][\"episode_timesteps\"],\n",
    "            \"reward\": avg_r\n",
    "        })\n",
    "\n",
    "    fname = f\"{env}_avg.json\"\n",
    "    with open(fname, 'w') as f:\n",
    "        json.dump(out, f, indent=2)\n",
    "    print(f\"Wrote {fname}\")\n"
   ]
  },
  {
   "cell_type": "code",
   "execution_count": null,
   "id": "cf86818a",
   "metadata": {},
   "outputs": [],
   "source": []
  }
 ],
 "metadata": {
  "kernelspec": {
   "display_name": "env_nml",
   "language": "python",
   "name": "python3"
  },
  "language_info": {
   "codemirror_mode": {
    "name": "ipython",
    "version": 3
   },
   "file_extension": ".py",
   "mimetype": "text/x-python",
   "name": "python",
   "nbconvert_exporter": "python",
   "pygments_lexer": "ipython3",
   "version": "3.10.16"
  }
 },
 "nbformat": 4,
 "nbformat_minor": 5
}
